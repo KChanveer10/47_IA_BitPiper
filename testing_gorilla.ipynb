{
 "cells": [
  {
   "cell_type": "code",
   "execution_count": 1,
   "id": "86dbf1fc",
   "metadata": {},
   "outputs": [],
   "source": [
    "# Import Chat completion template and set-up variables\n",
    "!pip install openai==0.28.1 &> /dev/null\n",
    "import openai\n",
    "import urllib.parse\n",
    "import json\n",
    "\n"
   ]
  },
  {
   "cell_type": "code",
   "execution_count": 11,
   "id": "6ac56304",
   "metadata": {},
   "outputs": [],
   "source": [
    "# Query Gorilla server\n",
    "def get_gorilla_response(prompt=\"Call me an Uber ride type \\\"Plus\\\" in Berkeley at zipcode 94704 in 10 minutes\", model=\"gorilla-openfunctions-v0\", functions=[]):\n",
    "    openai.api_key = \"EMPTY\" # Hosted for free with ❤️ from UC Berkeley\n",
    "    openai.api_base = \"http://luigi.millennium.berkeley.edu:8000/v1\"\n",
    "    try:\n",
    "        completion = openai.ChatCompletion.create(\n",
    "        model=\"gorilla-openfunctions-v1\",\n",
    "        temperature=0.0,\n",
    "        messages=[{\"role\": \"user\", \"content\": prompt}],\n",
    "        functions=functions,\n",
    "        )\n",
    "#         return completion.choices[0].message.content        \n",
    "        return completion.choices[0].message.content\n",
    "\n",
    "    except Exception as e:\n",
    "        print(e, model, prompt)"
   ]
  },
  {
   "cell_type": "code",
   "execution_count": 19,
   "id": "e7fb8dcf",
   "metadata": {},
   "outputs": [
    {
     "data": {
      "text/plain": [
       "\"quickbites.eat.order(restaurants='McDonald's', items='burgers,chicken wings', quantities=5, 6)\""
      ]
     },
     "execution_count": 19,
     "metadata": {},
     "output_type": "execute_result"
    }
   ],
   "source": [
    "function_documentation = [\n",
    "{\n",
    "    \"name\" : \"Order Food on Quickbites\",\n",
    "    \"api_name\": \"quickbites.eat.order\",\n",
    "    \"description\": \"Order food on quickbites, specifying items and their quantities\",\n",
    "    \"parameters\": [\n",
    "        {\n",
    "            \"name\": \"restaurants\",\n",
    "            \"description\": \"The chosen restaurant\"\n",
    "        },\n",
    "        {\n",
    "            \"name\": \"items\",\n",
    "            \"description\": \"List of selected items\"\n",
    "        },\n",
    "        {\n",
    "            \"name\": \"quantities\",\n",
    "            \"description\": \"Quantities corresponding to the chosen items\"\n",
    "        }\n",
    "    ]\n",
    "}]\n",
    "query =  \"I want to order five 'burgers' and six 'chicken wings' from McDonald's.\"\n",
    "\n",
    "get_gorilla_response(query, functions=function_documentation)"
   ]
  },
  {
   "cell_type": "code",
   "execution_count": 20,
   "id": "051d0cbb",
   "metadata": {},
   "outputs": [
    {
     "data": {
      "text/plain": [
       "'orangehrms.employee.leave(name=\"Anish Mhatre\", date=\"2022-09-02\", reason=\"Wedding\")'"
      ]
     },
     "execution_count": 20,
     "metadata": {},
     "output_type": "execute_result"
    }
   ],
   "source": [
    "function_documentation = [\n",
    "{\n",
    "    \"name\" : \"Apply for a leave in hrms\",\n",
    "    \"api_name\": \"orangehrms.employee.leave\",\n",
    "    \"description\": \"Request for a leave for an employee\",\n",
    "    \"parameters\": [\n",
    "        {\n",
    "            \"name\": \"name\",\n",
    "            \"description\": \"The name of the employee\"\n",
    "        },\n",
    "        {\n",
    "            \"name\": \"date\",\n",
    "            \"description\": \"Date of the requested leave\"\n",
    "        },\n",
    "        {\n",
    "            \"name\": \"reason\",\n",
    "            \"description\": \"The reason for applying for the leave\"\n",
    "        }\n",
    "    ]\n",
    "}]\n",
    "query =  \"Anish Mhatre wants to apply for a leave for 2nd of Sept to attend his sisters wedding.\"\n",
    "\n",
    "get_gorilla_response(query, functions=function_documentation)"
   ]
  },
  {
   "cell_type": "code",
   "execution_count": null,
   "id": "ca473dad",
   "metadata": {},
   "outputs": [],
   "source": []
  }
 ],
 "metadata": {
  "kernelspec": {
   "display_name": "Python 3 (ipykernel)",
   "language": "python",
   "name": "python3"
  },
  "language_info": {
   "codemirror_mode": {
    "name": "ipython",
    "version": 3
   },
   "file_extension": ".py",
   "mimetype": "text/x-python",
   "name": "python",
   "nbconvert_exporter": "python",
   "pygments_lexer": "ipython3",
   "version": "3.8.10"
  }
 },
 "nbformat": 4,
 "nbformat_minor": 5
}
